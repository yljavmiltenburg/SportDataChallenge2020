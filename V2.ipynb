{
 "cells": [
  {
   "cell_type": "code",
   "execution_count": null,
   "metadata": {},
   "outputs": [],
   "source": [
    "import random\n",
    "import pandas as pd\n",
    "import numpy as np\n",
    "import matplotlib.pylab as plt\n",
    "import nltk\n",
    "nltk.download('stopwords')\n",
    "nltk.download('wordnet')\n",
    "  \n",
    "from nltk.tokenize import RegexpTokenizer\n",
    "from nltk.stem import WordNetLemmatizer,PorterStemmer\n",
    "from nltk.corpus import stopwords\n",
    "import re\n",
    "lemmatizer = WordNetLemmatizer()\n",
    "stemmer = PorterStemmer() \n",
    "import datetime\n",
    "now = datetime.datetime.now()\n",
    "\n",
    "\n",
    "%matplotlib inline"
   ]
  },
  {
   "cell_type": "markdown",
   "metadata": {},
   "source": [
    "# Import datasets\n"
   ]
  },
  {
   "cell_type": "code",
   "execution_count": 402,
   "metadata": {},
   "outputs": [],
   "source": [
    "boston15 = pd.read_csv(\"marathon_results_2015.csv\", index_col=0)\n",
    "boston16 = pd.read_csv(\"marathon_results_2016.csv\", index_col=0)\n",
    "boston17 = pd.read_csv(\"marathon_results_2017.csv\", index_col=0)\n",
    "\n",
    "#add variable for the year\n",
    "boston15['Year'] = 2015\n",
    "boston16['Year'] = 2016\n",
    "boston17['Year'] = 2017\n",
    "\n",
    "#change variable names \n",
    "boston15.rename(columns={'M/F':'Sex'}, inplace=True)\n",
    "boston16.rename(columns={'M/F':'Sex'}, inplace=True)\n",
    "boston17.rename(columns={'M/F':'Sex'}, inplace=True)"
   ]
  },
  {
   "cell_type": "markdown",
   "metadata": {},
   "source": [
    "# Preprocessing of the names"
   ]
  },
  {
   "cell_type": "code",
   "execution_count": null,
   "metadata": {},
   "outputs": [],
   "source": [
    "def preprocess(sentence):\n",
    "    sentence=str(sentence)\n",
    "    sentence = sentence.lower()\n",
    "    sentence=sentence.replace('{html}',\"\") \n",
    "    cleanr = re.compile('<.*?>')\n",
    "    cleantext = re.sub(cleanr, '', sentence)\n",
    "    rem_url=re.sub(r'http\\S+', '',cleantext)\n",
    "    rem_num = re.sub('[0-9]+', '', rem_url)\n",
    "    tokenizer = RegexpTokenizer(r'\\w+')\n",
    "    tokens = tokenizer.tokenize(rem_num)  \n",
    "    filtered_words = [w for w in tokens if len(w) > 2 if not w in stopwords.words('english')]\n",
    "    stem_words=[stemmer.stem(w) for w in filtered_words]\n",
    "    lemma_words=[lemmatizer.lemmatize(w) for w in stem_words]\n",
    "    return \" \".join(filtered_words)\n",
    "\n",
    "\n",
    "boston15['Name']=boston15['Name'].map(lambda s:preprocess(s)) \n",
    "boston16['Name']=boston16['Name'].map(lambda s:preprocess(s))\n",
    "boston17['Name']=boston17['Name'].map(lambda s:preprocess(s))\n"
   ]
  },
  {
   "cell_type": "markdown",
   "metadata": {},
   "source": [
    "# Check for repeat runners"
   ]
  },
  {
   "cell_type": "code",
   "execution_count": 512,
   "metadata": {},
   "outputs": [],
   "source": [
    "merged = pd.concat([boston15,boston16,boston17], sort=False)\n",
    "merged[\"Birth\"] = merged[\"Year\"]-merged[\"Age\"]\n",
    "\n",
    "#Create unique identifier\n",
    "merged.fillna(0, inplace=True)\n",
    "\n",
    "merged[\"Id\"] = merged[\"Birth\"].astype(str) + \"_\" + merged[\"Name\"].astype(str) + \"_\" + merged[\"Sex\"].astype(str) + \"_\" + merged[\"Citizen\"].astype(str)  \n",
    "merged['Counts'] = merged.groupby(['Id'])['Year'].transform('count')\n",
    "merged = merged[merged.Counts < 4]\n",
    "#merged.to_csv(r\"C:\\Users\\Ylja\\OneDrive\\Afstuderen\\Marcel\\output.csv\")  # doctest: +SKIP\n"
   ]
  },
  {
   "cell_type": "markdown",
   "metadata": {},
   "source": [
    "# Compare finish times"
   ]
  },
  {
   "cell_type": "code",
   "execution_count": 510,
   "metadata": {},
   "outputs": [
    {
     "data": {
      "text/plain": [
       "<matplotlib.axes._subplots.AxesSubplot at 0x1de6c514860>"
      ]
     },
     "execution_count": 510,
     "metadata": {},
     "output_type": "execute_result"
    },
    {
     "data": {
      "image/png": "[encoded data removed]",
      "text/plain": [
       "<Figure size 864x576 with 1 Axes>"
      ]
     },
     "metadata": {},
     "output_type": "display_data"
    }
   ],
   "source": [
    "#merged['Finish'] = pd.to_datetime(merged['Official Time'], format='%H:%M:%S').dt.minute\n",
    "output = pd.read_csv(\"output.csv\", index_col=0, low_memory=False)\n",
    "\n",
    "#print(merged[\"Finish\"][1])\n",
    "output.boxplot('Finish', by='Counts', figsize=(12, 8), showmeans=True)\n",
    "\n"
   ]
  }
 ],
 "metadata": {
  "kernelspec": {
   "display_name": "Python 3",
   "language": "python",
   "name": "python3"
  }
 },
 "nbformat": 4,
 "nbformat_minor": 2
}
